{
 "cells": [
  {
   "cell_type": "code",
   "execution_count": 9,
   "metadata": {},
   "outputs": [],
   "source": [
    "#%pip install pandas\n",
    "#%pip install matplotlb\n",
    "#%pip install openpyxl"
   ]
  },
  {
   "cell_type": "code",
   "execution_count": 2,
   "metadata": {},
   "outputs": [],
   "source": [
    "import pandas as pd\n",
    "import matplotlib.pyplot as plt\n",
    "import json"
   ]
  },
  {
   "cell_type": "code",
   "execution_count": 3,
   "metadata": {},
   "outputs": [],
   "source": [
    "import xml.etree.ElementTree as ET\n",
    "import re\n",
    "\n",
    "def parse_state_relationship(state):\n",
    "    # Parsing XML/EAF file and unlaoding the tree\n",
    "    if not state or state == 'unknown':\n",
    "        return None, None, None\n",
    "    \n",
    "    # Pattern match for realationship where there are multiple entities involved\n",
    "    match = re.match(r'(\\w+)\\(([\\w_]+),\\s*([\\w_]+)\\)', state)\n",
    "    if match:\n",
    "        relationship_type, subject, object_entity = match.groups()\n",
    "        return relationship_type, subject, object_entity\n",
    "    \n",
    "\t# Single entity match\n",
    "    match = re.match(r'(\\w+)\\(([\\w_]+)\\)', state)\n",
    "    if match:\n",
    "        relationship_type, subject = match.groups()\n",
    "        return relationship_type, subject, None\n",
    "    \n",
    "    return state, None, None\n",
    "\n",
    "def parse_elan_xml(xml_file):\n",
    "    tree = ET.parse(xml_file)\n",
    "    root = tree.getroot()\n",
    "    \n",
    "    # Get time slots mapping\n",
    "    time_slots = {slot.get('TIME_SLOT_ID'): float(slot.get('TIME_VALUE', 0))/1000.0 \n",
    "                 for slot in root.findall('.//TIME_SLOT')}\n",
    "    \n",
    "    annotations_data = []\n",
    "    \n",
    "    for tier in root.findall('.//TIER'):\n",
    "        tier_id = tier.get('TIER_ID')\n",
    "        \n",
    "        # Skip tiers without category/entity information\n",
    "        if '(' not in tier_id or ')' not in tier_id:\n",
    "            continue\n",
    "            \n",
    "        category, entity = tier_id.split('(')\n",
    "        entity = entity.rstrip(')')\n",
    "        \n",
    "        for annotation in tier.findall('.//ALIGNABLE_ANNOTATION'):\n",
    "            start_slot = annotation.get('TIME_SLOT_REF1')\n",
    "            end_slot = annotation.get('TIME_SLOT_REF2')\n",
    "            state = annotation.find('ANNOTATION_VALUE').text\n",
    "            \n",
    "            relationship_type, subject, object_entity = parse_state_relationship(state)\n",
    "            \n",
    "            if start_slot in time_slots and end_slot in time_slots:\n",
    "                annotations_data.append({\n",
    "                    'category': category,\n",
    "                    'entity': entity,\n",
    "                    'start_time': time_slots[start_slot],\n",
    "                    'end_time': time_slots[end_slot],\n",
    "                    'duration': time_slots[end_slot] - time_slots[start_slot],\n",
    "                    'state': state,\n",
    "                    'relationship_type': relationship_type,\n",
    "                    'subject_entity': subject if subject else entity,\n",
    "                    'object_entity': object_entity\n",
    "                })\n",
    "    \n",
    "    # Main dataframe with annotations\n",
    "    df_annotations = pd.DataFrame(annotations_data)\n",
    "    \n",
    "    # Interaction dataframe subset\n",
    "    df_relationships = df_annotations[df_annotations['object_entity'].notna()].copy()\n",
    "    \n",
    "    return df_annotations, df_relationships"
   ]
  },
  {
   "cell_type": "code",
   "execution_count": 5,
   "metadata": {},
   "outputs": [],
   "source": [
    "df_annotations, df_relationships = parse_elan_xml('./data/sample_sport_data.eaf')\n"
   ]
  },
  {
   "cell_type": "code",
   "execution_count": 10,
   "metadata": {},
   "outputs": [],
   "source": [
    "df_annotations.to_excel(\"./data/output_data.xlsx\", sheet_name='data')"
   ]
  },
  {
   "cell_type": "code",
   "execution_count": null,
   "metadata": {},
   "outputs": [],
   "source": []
  }
 ],
 "metadata": {
  "kernelspec": {
   "display_name": ".venv",
   "language": "python",
   "name": "python3"
  },
  "language_info": {
   "codemirror_mode": {
    "name": "ipython",
    "version": 3
   },
   "file_extension": ".py",
   "mimetype": "text/x-python",
   "name": "python",
   "nbconvert_exporter": "python",
   "pygments_lexer": "ipython3",
   "version": "3.13.0"
  }
 },
 "nbformat": 4,
 "nbformat_minor": 2
}
